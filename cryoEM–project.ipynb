{
 "cells": [
  {
   "cell_type": "markdown",
   "metadata": {},
   "source": [
    "### Discriminating cryo-EM particles in images\n",
    "A simple script for cryo-EM micrographs and single particle analysis. \n",
    "\n",
    "Project outline:\n",
    "– Step 1: Clustering of data (images)\n",
    "– Step 2: Particle Picking\n",
    "– Step 3: 2D Classification"
   ]
  },
  {
   "cell_type": "code",
   "execution_count": null,
   "metadata": {},
   "outputs": [],
   "source": []
  }
 ],
 "metadata": {
  "language_info": {
   "name": "python"
  }
 },
 "nbformat": 4,
 "nbformat_minor": 2
}
